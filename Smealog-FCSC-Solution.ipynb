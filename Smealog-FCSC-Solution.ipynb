{
 "cells": [
  {
   "cell_type": "code",
   "execution_count": 16,
   "metadata": {
    "collapsed": false,
    "editable": true,
    "scrolled": true
   },
   "outputs": [
   ],
   "source": [
    "import os\n",
    "from hashlib import sha256\n",
    "from Crypto.Cipher import AES\n",
    "#from secret import FLAG\n",
    "\n",
    "def gen_curve(bits = 40, k = 4):\n",
    "    assert bits*k >= 160, \"Error: p**k must be at least 160 bits.\"\n",
    "    p = random_prime(2 ** (bits + 1) - 1, lbound = 2 ** bits)\n",
    "    R = Zmod(p**k)\n",
    "    while True:\n",
    "        a, b = R.random_element(), R.random_element()\n",
    "        d = 4 * a ** 3 + 27 * b ** 2\n",
    "        if d.is_unit():\n",
    "            E  = EllipticCurve(R, [a, b])\n",
    "            E_ = EllipticCurve(GF(p), [a, b])\n",
    "            if E_.order().is_prime():\n",
    "                return E\n",
    "\n",
    "def gen_random_point(E):\n",
    "    R = E.base_ring()\n",
    "    a, b = E.a4(), E.a6()\n",
    "    while True:\n",
    "        x = R.random_element()\n",
    "        t = x ** 3 + a * x + b\n",
    "        if is_square(t):\n",
    "            y = choice([-1, 1]) * sqrt(t)\n",
    "            #print(x,y)\n",
    "            return E([x, y])\n",
    "\n",
    "def gen_pair(E):\n",
    "    N = E.base_ring().characteristic()\n",
    "    s = ZZ.random_element(N)\n",
    "    P = gen_random_point(E)\n",
    "    return P, s\n",
    "\n",
    "def encrypt(s):\n",
    "    k = sha256(str(s).encode()).digest()\n",
    "    iv = os.urandom(16)\n",
    "    #c = AES.new(k, AES.MODE_CBC, iv).encrypt(\"aa\")\n",
    "    c = 0\n",
    "    return iv, c\n"
   ]
  },
  {
   "cell_type": "code",
   "execution_count": 17,
   "metadata": {
    "collapsed": false
   },
   "outputs": [
    {
     "name": "stdout",
     "output_type": "stream",
     "text": [
      "1614926806643\n",
      "[1548570964768, 367038015260, 510269183073, 0, 0]\n",
      "1330777078199761105051498230654082901\n",
      "5901549400384790567861449014099270154408538055049\n"
     ]
    }
   ],
   "source": [
    "from Crypto.Util.number import *\n",
    "import os\n",
    "from hashlib import sha256\n",
    "from Crypto.Cipher import AES\n",
    "#from secret import FLAG\n",
    "\n",
    "a1 = 4692450611853470576530915318823703839138750803615\n",
    "a2 = 5114351683655764329253106245428582084587536640503\n",
    "S = F([4818298608029665051393880712825109209819975611403, 3354976854279375487312341201850051023143236550702])\n",
    "T = F([6276672712837100206846077340854087747993984369352 , 5153262096245606021857753027994479500306746041453])\n",
    "q = 1614926806643  ##ORDER\n",
    "p = 1614927334829\n",
    "l = 1330461465055\n",
    "\n",
    "Fp = Zmod(p^4)\n",
    "E = EllipticCurve(Fp, [a1, a2])\n",
    "prec = 4\n",
    "Qp = pAdicField(p, prec)\n",
    "E = EllipticCurve(Qp, [a1, a2])\n",
    "\n",
    "Fp = GF(p)\n",
    "Ef = EllipticCurve(Fp, [a1, a2])\n",
    "N = Ef.order()\n",
    "print(N)\n",
    "S = E(S[0], S[1])\n",
    "T = E(T[0], T[1])\n",
    "\n",
    "NS = N * S\n",
    "a = Fp(-NS[0] / (p * NS[1]))\n",
    "\n",
    "n = 0\n",
    "l = 1\n",
    "Sp = S\n",
    "Tp = T\n",
    "ds = []\n",
    "while Tp != 0:\n",
    "    NTp = N*Tp\n",
    "    w = -NTp[0] / NTp[1]\n",
    "    b = w / p^l\n",
    "    d = Fp(Integer(b)/a)\n",
    "    ds.append(Integer(d))\n",
    "    Tp = Tp - Integer(d)*Sp\n",
    "    Sp = p*Sp\n",
    "    n += 1\n",
    "    l += 1\n",
    "    if n > prec:\n",
    "        break\n",
    "\n",
    "solve = 0\n",
    "for i in range(len(ds)):\n",
    "    solve += ds[i] * p^i\n",
    "q = 1614926806643  ##ORDER\n",
    "p = 1614927334829\n",
    "l = 1330461465055\n",
    "print(ds)\n",
    "print(solve)\n",
    "print(CRT([solve%p,solve%(p**2),solve,l],[p,p**2,p**3,q]))\n",
    "\n",
    "#dl=5901549400384790567861449014099270154408538055049\n",
    "#print(T == 5901549400384790567861449014099270154408538055049*dl)"
   ]
  },
  {
   "cell_type": "code",
   "execution_count": 18,
   "metadata": {
    "collapsed": false
   },
   "outputs": [
    {
     "name": "stdout",
     "output_type": "stream",
     "text": [
      "b'FCSC{b761f352662f739c2a91e92db5af5f7a4e7a3466d0e594eda07eea4046fb6658}\\n\\n\\n\\n\\n\\n\\n\\n\\n\\n'\n"
     ]
    }
   ],
   "source": [
    "dl = 5901549400384790567861449014099270154408538055049\n",
    "k = sha256(str(dl).encode()).digest()\n",
    "iv = bytes.fromhex(\"0564fc638153e8b1ef1b7b5f52c539cc\")\n",
    "FLAG=bytes.fromhex(\"a808e9122d2e0f398bec32a8864d7352fe0bd1d3d6690ba52d2c5bad92fecd2cebab044f312a951aa5bdc1a23f7a925a89c38901e4b546e3a065b6cb57975efb5e2c874273f050d214e178deef8dbc3a\")\n",
    "\n",
    "c = AES.new(k, AES.MODE_CBC, iv).decrypt(FLAG)\n",
    "print(c)"
   ]
  },
  {
   "cell_type": "code",
   "execution_count": 0,
   "metadata": {
    "collapsed": false
   },
   "outputs": [
   ],
   "source": [
   ]
  },
  {
   "cell_type": "code",
   "execution_count": 0,
   "metadata": {
    "collapsed": false
   },
   "outputs": [
   ],
   "source": [
   ]
  }
 ],
 "metadata": {
  "kernelspec": {
   "display_name": "SageMath 9.2",
   "language": "sagemath",
   "metadata": {
    "cocalc": {
     "description": "Open-source mathematical software system",
     "priority": 1,
     "url": "https://www.sagemath.org/"
    }
   },
   "name": "sage-9.2",
   "resource_dir": "/ext/jupyter/kernels/sage-9.2"
  },
  "language_info": {
   "codemirror_mode": {
    "name": "ipython",
    "version": 3
   },
   "file_extension": ".py",
   "mimetype": "text/x-python",
   "name": "python",
   "nbconvert_exporter": "python",
   "pygments_lexer": "ipython3",
   "version": "3.8.10"
  }
 },
 "nbformat": 4,
 "nbformat_minor": 4
}